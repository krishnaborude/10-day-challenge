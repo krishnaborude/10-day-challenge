{
 "cells": [
  {
   "cell_type": "markdown",
   "metadata": {},
   "source": [
    "NumPy arrays have various attributes:"
   ]
  },
  {
   "cell_type": "markdown",
   "metadata": {},
   "source": [
    "|Attribute\t| Description|\n",
    "|-----------|------------|\n",
    "|ndim\t   | Number of dimensions|\n",
    "|shape\t   | Tuple representing dimensions|\n",
    "|size\t   | Total number of elements|\n",
    "|dtype\t   | Data type of elements|\n",
    "|itemsize\t|Size of each element (in bytes)|\n",
    "|nbytes\t   | Total bytes consumed|"
   ]
  },
  {
   "cell_type": "markdown",
   "metadata": {},
   "source": [
    "Examples"
   ]
  },
  {
   "cell_type": "code",
   "execution_count": null,
   "metadata": {},
   "outputs": [],
   "source": [
    "arr = np.array([[1, 2, 3], [4, 5, 6]])\n",
    "\n",
    "print(\"Dimensions:\", arr.ndim)    # 2\n",
    "print(\"Shape:\", arr.shape)        # (2, 3)\n",
    "print(\"Size:\", arr.size)          # 6\n",
    "print(\"Data type:\", arr.dtype)    # int64 (depends on system)\n",
    "print(\"Item size:\", arr.itemsize) # Size in bytes\n",
    "print(\"Total memory:\", arr.nbytes) # Total bytes used\n"
   ]
  }
 ],
 "metadata": {
  "kernelspec": {
   "display_name": "Python 3",
   "language": "python",
   "name": "python3"
  },
  "language_info": {
   "name": "python",
   "version": "3.8.10"
  }
 },
 "nbformat": 4,
 "nbformat_minor": 2
}
