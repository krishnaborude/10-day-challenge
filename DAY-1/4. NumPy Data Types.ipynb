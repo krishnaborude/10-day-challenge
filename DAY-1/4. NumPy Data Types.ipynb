{
 "cells": [
  {
   "cell_type": "markdown",
   "metadata": {},
   "source": [
    "NumPy supports various data types for memory efficiency."
   ]
  },
  {
   "cell_type": "markdown",
   "metadata": {},
   "source": [
    "|NumPy Data Type\t          |    Description           |\n",
    "|--------------------------|--------------------------|\n",
    "|int8, int16, int32, int64 |  Integer types          |\n",
    "|float16, float32, float64 |  Floating point numbers |\n",
    "|complex64, complex128\t   |  Complex numbers        | \n",
    "|bool_\t                   |  Boolean values        |\n",
    "|string_\t                   |  Fixed-length strings   |"
   ]
  },
  {
   "cell_type": "markdown",
   "metadata": {},
   "source": [
    "Checking and Changing Data Type"
   ]
  },
  {
   "cell_type": "code",
   "execution_count": null,
   "metadata": {},
   "outputs": [],
   "source": [
    "arr = np.array([1, 2, 3], dtype=np.int32)\n",
    "print(arr.dtype)  # int32\n",
    "\n",
    "# Convert data type\n",
    "arr_float = arr.astype(np.float64)\n",
    "print(arr_float.dtype)  # float64\n"
   ]
  },
  {
   "cell_type": "markdown",
   "metadata": {},
   "source": [
    "🔹 Using astype() is useful for converting between data types."
   ]
  }
 ],
 "metadata": {
  "language_info": {
   "name": "python"
  }
 },
 "nbformat": 4,
 "nbformat_minor": 2
}
