{
 "cells": [
  {
   "cell_type": "markdown",
   "metadata": {},
   "source": [
    "NumPy (Numerical Python) is the fundamental package for scientific computing in Python. It provides:\n",
    "\n",
    "✅ Fast and efficient multi-dimensional arrays (ndarray)\n",
    "\n",
    "✅ Mathematical operations (linear algebra, statistics, Fourier transforms)\n",
    "\n",
    "✅ Broadcasting (element-wise operations without explicit loops)\n",
    "\n",
    "✅ Memory-efficient operations compared to Python lists\n",
    "\n",
    "✅ Integration with libraries like Pandas, SciPy, TensorFlow"
   ]
  },
  {
   "cell_type": "markdown",
   "metadata": {},
   "source": [
    "🔹 Why use NumPy instead of Python lists?\n",
    "\n",
    "* Faster: NumPy is implemented in C, making it significantly faster than Python lists.\n",
    "\n",
    "* Less Memory: NumPy arrays consume less memory than lists.\n",
    "\n",
    "* Convenient: NumPy offers built-in functions for numerical operations."
   ]
  },
  {
   "cell_type": "markdown",
   "metadata": {},
   "source": [
    "##### Performance comparison: NumPy vs. Python List"
   ]
  },
  {
   "cell_type": "code",
   "execution_count": null,
   "metadata": {},
   "outputs": [],
   "source": [
    "import numpy as np\n",
    "import time\n",
    "\n",
    "size = 1000000  \n",
    "list1 = range(size)\n",
    "list2 = range(size)\n",
    "\n",
    "arr1 = np.arange(size)\n",
    "arr2 = np.arange(size)\n",
    "\n",
    "# Using Python lists\n",
    "start = time.time()\n",
    "result = [x + y for x, y in zip(list1, list2)]\n",
    "print(\"Python list time:\", time.time() - start)\n",
    "\n",
    "# Using NumPy\n",
    "start = time.time()\n",
    "result = arr1 + arr2  # Vectorized operation\n",
    "print(\"NumPy time:\", time.time() - start)\n"
   ]
  },
  {
   "cell_type": "markdown",
   "metadata": {},
   "source": [
    "🔹 NumPy is much faster because of vectorization.\n",
    "\n"
   ]
  },
  {
   "cell_type": "markdown",
   "metadata": {},
   "source": []
  }
 ],
 "metadata": {
  "kernelspec": {
   "display_name": "Python 3",
   "language": "python",
   "name": "python3"
  },
  "language_info": {
   "name": "python",
   "version": "3.8.10"
  }
 },
 "nbformat": 4,
 "nbformat_minor": 2
}
