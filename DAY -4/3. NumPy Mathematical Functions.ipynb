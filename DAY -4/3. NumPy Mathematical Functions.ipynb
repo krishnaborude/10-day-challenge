{
 "cells": [
  {
   "cell_type": "markdown",
   "id": "0580e3c1",
   "metadata": {},
   "source": [
    "# NumPy Mathematical Functions"
   ]
  },
  {
   "cell_type": "markdown",
   "id": "f5093ac2",
   "metadata": {},
   "source": [
    "This notebook covers various mathematical functions in NumPy, including trigonometric, exponential, logarithmic, power, rounding, absolute, statistical, and special functions."
   ]
  },
  {
   "cell_type": "markdown",
   "id": "a6c70d47",
   "metadata": {},
   "source": [
    "## 1. Trigonometric Functions\n",
    "These functions operate on angles and are useful in geometric and scientific computations."
   ]
  },
  {
   "cell_type": "code",
   "execution_count": null,
   "id": "14a8e806",
   "metadata": {},
   "outputs": [],
   "source": [
    "import numpy as np\n",
    "\n",
    "angles = np.array([0, np.pi/2, np.pi, 3*np.pi/2])\n",
    "\n",
    "print(np.sin(angles))  # Sine\n",
    "print(np.cos(angles))  # Cosine\n",
    "print(np.tan(angles))  # Tangent"
   ]
  },
  {
   "cell_type": "markdown",
   "id": "7115d131",
   "metadata": {},
   "source": [
    "### Inverse Trigonometric Functions\n",
    "These return angles in radians."
   ]
  },
  {
   "cell_type": "code",
   "execution_count": null,
   "id": "2f0b1c90",
   "metadata": {},
   "outputs": [],
   "source": [
    "values = np.array([0, 0.5, 1])\n",
    "\n",
    "print(np.arcsin(values))  # Inverse Sine\n",
    "print(np.arccos(values))  # Inverse Cosine\n",
    "print(np.arctan(values))  # Inverse Tangent"
   ]
  },
  {
   "cell_type": "markdown",
   "id": "5f3e4fdf",
   "metadata": {},
   "source": [
    "### Hyperbolic Functions"
   ]
  },
  {
   "cell_type": "code",
   "execution_count": null,
   "id": "bc8a6ae7",
   "metadata": {},
   "outputs": [],
   "source": [
    "x = np.array([0, 1, -1])\n",
    "\n",
    "print(np.sinh(x))  # Hyperbolic Sine\n",
    "print(np.cosh(x))  # Hyperbolic Cosine\n",
    "print(np.tanh(x))  # Hyperbolic Tangent"
   ]
  },
  {
   "cell_type": "markdown",
   "id": "3f4f1ce2",
   "metadata": {},
   "source": [
    "## 2. Exponential and Logarithmic Functions\n",
    "These functions are useful for scientific and engineering applications."
   ]
  },
  {
   "cell_type": "code",
   "execution_count": null,
   "id": "cddf34c2",
   "metadata": {},
   "outputs": [],
   "source": [
    "x = np.array([0, 1, 2])\n",
    "\n",
    "print(np.exp(x))      # e^x\n",
    "print(np.expm1(x))    # e^x - 1\n",
    "print(np.exp2(x))     # 2^x"
   ]
  },
  {
   "cell_type": "code",
   "execution_count": null,
   "id": "e99034af",
   "metadata": {},
   "outputs": [],
   "source": [
    "x = np.array([1, np.e, 10])\n",
    "\n",
    "print(np.log(x))      # Natural Log (base e)\n",
    "print(np.log10(x))    # Log base 10\n",
    "print(np.log2(x))     # Log base 2\n",
    "print(np.log1p(x))    # log(1 + x)"
   ]
  },
  {
   "cell_type": "markdown",
   "id": "4e73d467",
   "metadata": {},
   "source": [
    "## 3. Power and Root Functions"
   ]
  },
  {
   "cell_type": "code",
   "execution_count": null,
   "id": "61eac410",
   "metadata": {},
   "outputs": [],
   "source": [
    "x = np.array([1, 4, 9, 16])\n",
    "\n",
    "print(np.sqrt(x))     # Square Root\n",
    "print(np.cbrt(x))     # Cube Root\n",
    "print(np.square(x))   # Square (x^2)\n",
    "print(np.power(x, 3)) # x^3"
   ]
  },
  {
   "cell_type": "markdown",
   "id": "42e07de9",
   "metadata": {},
   "source": [
    "## 4. Rounding Functions"
   ]
  },
  {
   "cell_type": "code",
   "execution_count": null,
   "id": "2914c733",
   "metadata": {},
   "outputs": [],
   "source": [
    "x = np.array([1.4, 1.6, 2.5, -1.5])\n",
    "\n",
    "print(np.round(x))    # Round to nearest integer\n",
    "print(np.floor(x))    # Round down\n",
    "print(np.ceil(x))     # Round up\n",
    "print(np.trunc(x))    # Truncate decimal part"
   ]
  },
  {
   "cell_type": "markdown",
   "id": "fdc5edca",
   "metadata": {},
   "source": [
    "## 5. Absolute and Sign Functions"
   ]
  },
  {
   "cell_type": "code",
   "execution_count": null,
   "id": "3990fa21",
   "metadata": {},
   "outputs": [],
   "source": [
    "x = np.array([-1, -2, 0, 3, 4])\n",
    "\n",
    "print(np.abs(x))      # Absolute value\n",
    "print(np.sign(x))     # Sign of numbers (-1, 0, or 1)"
   ]
  },
  {
   "cell_type": "markdown",
   "id": "b4ab3828",
   "metadata": {},
   "source": [
    "## 6. Statistical Functions\n",
    "These functions help in data analysis."
   ]
  },
  {
   "cell_type": "code",
   "execution_count": null,
   "id": "0f7c6003",
   "metadata": {},
   "outputs": [],
   "source": [
    "x = np.array([1, 2, 3, 4, 5])\n",
    "\n",
    "print(np.min(x))      # Minimum\n",
    "print(np.max(x))      # Maximum\n",
    "print(np.mean(x))     # Mean (Average)\n",
    "print(np.median(x))   # Median\n",
    "print(np.std(x))      # Standard Deviation\n",
    "print(np.var(x))      # Variance"
   ]
  },
  {
   "cell_type": "markdown",
   "id": "138e9908",
   "metadata": {},
   "source": [
    "## 7. Special Functions"
   ]
  },
  {
   "cell_type": "markdown",
   "id": "ea899eec",
   "metadata": {},
   "source": [
    "### GCD and LCM"
   ]
  },
  {
   "cell_type": "code",
   "execution_count": null,
   "id": "efaf0e33",
   "metadata": {},
   "outputs": [],
   "source": [
    "a = 15\n",
    "b = 20\n",
    "\n",
    "print(np.gcd(a, b))   # Greatest Common Divisor\n",
    "print(np.lcm(a, b))   # Least Common Multiple"
   ]
  },
  {
   "cell_type": "markdown",
   "id": "f2890846",
   "metadata": {},
   "source": [
    "### Factorial and Gamma Function"
   ]
  },
  {
   "cell_type": "code",
   "execution_count": null,
   "id": "14cd4b85",
   "metadata": {},
   "outputs": [],
   "source": [
    "x = np.array([3, 4, 5])\n",
    "\n",
    "print(np.math.factorial(5))   # Factorial (only for scalars)\n",
    "print(np.prod(x))             # Product of array elements\n",
    "print(np.cumprod(x))          # Cumulative product"
   ]
  },
  {
   "cell_type": "markdown",
   "id": "17730347",
   "metadata": {},
   "source": [
    "## Conclusion\n",
    "NumPy provides a wide range of mathematical functions that allow efficient numerical computations on arrays. This notebook covered the most commonly used functions."
   ]
  }
 ],
 "metadata": {},
 "nbformat": 4,
 "nbformat_minor": 5
}
