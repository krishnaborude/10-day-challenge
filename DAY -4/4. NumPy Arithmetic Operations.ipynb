{
 "cells": [
  {
   "cell_type": "markdown",
   "id": "be31aaf7",
   "metadata": {},
   "source": [
    "# **NumPy Arithmetic Operations in Depth**"
   ]
  },
  {
   "cell_type": "markdown",
   "id": "31da0307",
   "metadata": {},
   "source": [
    "NumPy provides a set of arithmetic operations that allow efficient mathematical computations on arrays. These operations are vectorized, meaning they are performed element-wise, making them much faster than traditional Python loops."
   ]
  },
  {
   "cell_type": "markdown",
   "id": "9d802b45",
   "metadata": {},
   "source": [
    "## **1. Basic Arithmetic Operations**\n",
    "NumPy supports element-wise addition, subtraction, multiplication, and division."
   ]
  },
  {
   "cell_type": "code",
   "execution_count": null,
   "id": "83e936d7",
   "metadata": {},
   "outputs": [],
   "source": [
    "import numpy as np\n",
    "\n",
    "a = np.array([1, 2, 3])\n",
    "b = np.array([4, 5, 6])\n",
    "\n",
    "# Addition\n",
    "print(a + b)\n",
    "\n",
    "# Subtraction\n",
    "print(a - b)\n",
    "\n",
    "# Multiplication\n",
    "print(a * b)\n",
    "\n",
    "# Division\n",
    "print(a / b)"
   ]
  },
  {
   "cell_type": "markdown",
   "id": "d08caf1b",
   "metadata": {},
   "source": [
    "## **2. Scalar Arithmetic Operations**\n",
    "You can perform arithmetic operations between a NumPy array and a scalar."
   ]
  },
  {
   "cell_type": "code",
   "execution_count": null,
   "id": "319e106b",
   "metadata": {},
   "outputs": [],
   "source": [
    "a = np.array([1, 2, 3])\n",
    "\n",
    "# Addition with a scalar\n",
    "print(a + 10)\n",
    "\n",
    "# Multiplication with a scalar\n",
    "print(a * 3)\n",
    "\n",
    "# Division with a scalar\n",
    "print(a / 2)\n",
    "\n",
    "# Exponentiation\n",
    "print(a ** 2)"
   ]
  },
  {
   "cell_type": "markdown",
   "id": "82501393",
   "metadata": {},
   "source": [
    "## **3. Unary Operations (on a single array)**"
   ]
  },
  {
   "cell_type": "code",
   "execution_count": null,
   "id": "0da92ceb",
   "metadata": {},
   "outputs": [],
   "source": [
    "a = np.array([-1, 2, -3, 4])\n",
    "\n",
    "# Absolute values\n",
    "print(np.abs(a))\n",
    "\n",
    "# Square root\n",
    "print(np.sqrt(np.array([4, 9, 16])))\n",
    "\n",
    "# Exponentiation (e^x)\n",
    "print(np.exp(np.array([1, 2, 3])))\n",
    "\n",
    "# Logarithm (natural log)\n",
    "print(np.log(np.array([1, np.e, np.e**2])))"
   ]
  },
  {
   "cell_type": "markdown",
   "id": "bab1bb1a",
   "metadata": {},
   "source": [
    "## **4. Broadcasting in Arithmetic Operations**"
   ]
  },
  {
   "cell_type": "code",
   "execution_count": null,
   "id": "cb91f76e",
   "metadata": {},
   "outputs": [],
   "source": [
    "a = np.array([[1, 2, 3], [4, 5, 6]])\n",
    "b = np.array([10, 20, 30])\n",
    "\n",
    "# Broadcasting: Adding b to each row of a\n",
    "print(a + b)"
   ]
  },
  {
   "cell_type": "markdown",
   "id": "a8efd271",
   "metadata": {},
   "source": [
    "## **5. Aggregation Functions in NumPy**"
   ]
  },
  {
   "cell_type": "code",
   "execution_count": null,
   "id": "3d1a7a96",
   "metadata": {},
   "outputs": [],
   "source": [
    "a = np.array([1, 2, 3, 4, 5])\n",
    "\n",
    "# Sum of elements\n",
    "print(np.sum(a))\n",
    "\n",
    "# Mean (average)\n",
    "print(np.mean(a))\n",
    "\n",
    "# Standard deviation\n",
    "print(np.std(a))\n",
    "\n",
    "# Minimum and Maximum\n",
    "print(np.min(a), np.max(a))\n",
    "\n",
    "# Cumulative sum\n",
    "print(np.cumsum(a))"
   ]
  },
  {
   "cell_type": "markdown",
   "id": "e1aa35bd",
   "metadata": {},
   "source": [
    "## **6. Element-wise Comparison Operations**"
   ]
  },
  {
   "cell_type": "code",
   "execution_count": null,
   "id": "1e98a5c3",
   "metadata": {},
   "outputs": [],
   "source": [
    "a = np.array([1, 2, 3, 4])\n",
    "b = np.array([2, 2, 3, 5])\n",
    "\n",
    "# Element-wise comparison\n",
    "print(a == b)\n",
    "\n",
    "# Greater than\n",
    "print(a > b)\n",
    "\n",
    "# Logical operations\n",
    "print(np.any(a > b))\n",
    "print(np.all(a >= b))"
   ]
  },
  {
   "cell_type": "markdown",
   "id": "1fbf593a",
   "metadata": {},
   "source": [
    "## **7. Matrix Multiplication vs. Element-wise Multiplication**"
   ]
  },
  {
   "cell_type": "code",
   "execution_count": null,
   "id": "5d099aa8",
   "metadata": {},
   "outputs": [],
   "source": [
    "A = np.array([[1, 2], [3, 4]])\n",
    "B = np.array([[2, 0], [1, 3]])\n",
    "\n",
    "# Element-wise multiplication\n",
    "print(A * B)\n",
    "\n",
    "# Matrix multiplication\n",
    "print(A @ B)  # OR np.dot(A, B)"
   ]
  },
  {
   "cell_type": "markdown",
   "id": "d39be78f",
   "metadata": {},
   "source": [
    "## **8. Handling NaN and Infinite Values**"
   ]
  },
  {
   "cell_type": "code",
   "execution_count": null,
   "id": "9be25bc1",
   "metadata": {},
   "outputs": [],
   "source": [
    "a = np.array([1, np.nan, 2, np.inf])\n",
    "\n",
    "# Check for NaN\n",
    "print(np.isnan(a))\n",
    "\n",
    "# Check for Inf\n",
    "print(np.isinf(a))\n",
    "\n",
    "# Replace NaN with a value\n",
    "a[np.isnan(a)] = 0\n",
    "print(a)"
   ]
  },
  {
   "cell_type": "markdown",
   "id": "c77421a3",
   "metadata": {},
   "source": [
    "## **9. Modulo and Floor Division**"
   ]
  },
  {
   "cell_type": "code",
   "execution_count": null,
   "id": "69090853",
   "metadata": {},
   "outputs": [],
   "source": [
    "a = np.array([7, 15, 22])\n",
    "\n",
    "# Modulo (remainder)\n",
    "print(a % 5)\n",
    "\n",
    "# Floor division\n",
    "print(a // 5)"
   ]
  },
  {
   "cell_type": "markdown",
   "id": "55a89fa7",
   "metadata": {},
   "source": [
    "## **10. Rounding Functions**"
   ]
  },
  {
   "cell_type": "code",
   "execution_count": null,
   "id": "251cfa17",
   "metadata": {},
   "outputs": [],
   "source": [
    "a = np.array([1.23, 4.56, 7.89])\n",
    "\n",
    "# Round to nearest integer\n",
    "print(np.round(a))\n",
    "\n",
    "# Floor (round down)\n",
    "print(np.floor(a))\n",
    "\n",
    "# Ceil (round up)\n",
    "print(np.ceil(a))"
   ]
  },
  {
   "cell_type": "markdown",
   "id": "5c823d98",
   "metadata": {},
   "source": [
    "### **Conclusion**\n",
    "NumPy provides a powerful and efficient way to perform arithmetic operations on arrays. With features like broadcasting, vectorized operations, and aggregation functions, it is the backbone of numerical computing in Python."
   ]
  }
 ],
 "metadata": {},
 "nbformat": 4,
 "nbformat_minor": 5
}
