{
 "cells": [
  {
   "cell_type": "markdown",
   "id": "2b9e2254",
   "metadata": {},
   "source": [
    "# NumPy Binary Operators\n",
    "This notebook covers various NumPy binary operators, including arithmetic, comparison, bitwise, and logical operations.\n",
    "\n",
    "Each section contains an explanation followed by a code example."
   ]
  },
  {
   "cell_type": "code",
   "execution_count": 15,
   "id": "3809fc82",
   "metadata": {},
   "outputs": [],
   "source": [
    "## 1. Arithmetic Binary Operators\n",
    "# These operators perform element-wise arithmetic computations."
   ]
  },
  {
   "cell_type": "markdown",
   "id": "3b4db761",
   "metadata": {},
   "source": [
    "### (i) Addition (`+` or `np.add()`)"
   ]
  },
  {
   "cell_type": "code",
   "execution_count": 16,
   "id": "c77eafa9",
   "metadata": {},
   "outputs": [
    {
     "name": "stdout",
     "output_type": "stream",
     "text": [
      "Addition: [5 7 9]\n"
     ]
    }
   ],
   "source": [
    "import numpy as np\n",
    "\n",
    "a = np.array([1, 2, 3])\n",
    "b = np.array([4, 5, 6])\n",
    "\n",
    "result = np.add(a, b)  # or a + b\n",
    "print('Addition:', result)  # Output: [5 7 9]"
   ]
  },
  {
   "cell_type": "markdown",
   "id": "e9b9d01c",
   "metadata": {},
   "source": [
    "### (ii) Subtraction (`-` or `np.subtract()`)"
   ]
  },
  {
   "cell_type": "code",
   "execution_count": 17,
   "id": "6c107572",
   "metadata": {},
   "outputs": [
    {
     "name": "stdout",
     "output_type": "stream",
     "text": [
      "Subtraction: [-3 -3 -3]\n"
     ]
    }
   ],
   "source": [
    "result = np.subtract(a, b)  # or a - b\n",
    "print('Subtraction:', result)  # Output: [-3 -3 -3]"
   ]
  },
  {
   "cell_type": "markdown",
   "id": "e7a7e8c3",
   "metadata": {},
   "source": [
    "### (iii) Multiplication (`*` or `np.multiply()`)"
   ]
  },
  {
   "cell_type": "code",
   "execution_count": 18,
   "id": "5c62db56",
   "metadata": {},
   "outputs": [
    {
     "name": "stdout",
     "output_type": "stream",
     "text": [
      "Multiplication: [ 4 10 18]\n"
     ]
    }
   ],
   "source": [
    "result = np.multiply(a, b)  # or a * b\n",
    "print('Multiplication:', result)  # Output: [4 10 18]"
   ]
  },
  {
   "cell_type": "markdown",
   "id": "59726b62",
   "metadata": {},
   "source": [
    "### (iv) Division (`/` or `np.divide()`)"
   ]
  },
  {
   "cell_type": "code",
   "execution_count": 19,
   "id": "c465ba03",
   "metadata": {},
   "outputs": [
    {
     "name": "stdout",
     "output_type": "stream",
     "text": [
      "Division: [4.  2.5 2. ]\n"
     ]
    }
   ],
   "source": [
    "result = np.divide(b, a)  # or b / a\n",
    "print('Division:', result)  # Output: [4.  2.5 2. ]"
   ]
  },
  {
   "cell_type": "markdown",
   "id": "0d2fff31",
   "metadata": {},
   "source": [
    "### (v) Floor Division (`//` or `np.floor_divide()`)"
   ]
  },
  {
   "cell_type": "code",
   "execution_count": 20,
   "id": "da5bbabf",
   "metadata": {},
   "outputs": [
    {
     "name": "stdout",
     "output_type": "stream",
     "text": [
      "Floor Division: [4 2 2]\n"
     ]
    }
   ],
   "source": [
    "result = np.floor_divide(b, a)  # or b // a\n",
    "print('Floor Division:', result)  # Output: [4 2 2]"
   ]
  },
  {
   "cell_type": "markdown",
   "id": "1077ef66",
   "metadata": {},
   "source": [
    "### (vi) Modulus (`%` or `np.mod()`)"
   ]
  },
  {
   "cell_type": "code",
   "execution_count": 21,
   "id": "ef5451cc",
   "metadata": {},
   "outputs": [
    {
     "name": "stdout",
     "output_type": "stream",
     "text": [
      "Modulus: [0 1 0]\n"
     ]
    }
   ],
   "source": [
    "result = np.mod(b, a)  # or b % a\n",
    "print('Modulus:', result)  # Output: [0 1 0]"
   ]
  },
  {
   "cell_type": "markdown",
   "id": "aa0ffb59",
   "metadata": {},
   "source": [
    "### (vii) Exponentiation (`**` or `np.power()`)"
   ]
  },
  {
   "cell_type": "code",
   "execution_count": 22,
   "id": "4c20c3f4",
   "metadata": {},
   "outputs": [
    {
     "name": "stdout",
     "output_type": "stream",
     "text": [
      "Exponentiation: [  1  32 729]\n"
     ]
    }
   ],
   "source": [
    "result = np.power(a, b)  # or a ** b\n",
    "print('Exponentiation:', result)  # Output: [1 32 729]"
   ]
  },
  {
   "cell_type": "markdown",
   "id": "cb68b9f5",
   "metadata": {},
   "source": [
    "## 2. Comparison Binary Operators\n",
    "These operators perform element-wise comparisons."
   ]
  },
  {
   "cell_type": "code",
   "execution_count": 23,
   "id": "e3a66b5f",
   "metadata": {},
   "outputs": [],
   "source": [
    "### (i) Greater Than (`>` or `np.greater()`)"
   ]
  },
  {
   "cell_type": "markdown",
   "id": "50653126",
   "metadata": {},
   "source": [
    "result = np.greater(a, b)  # or a > b\n",
    "print('Greater Than:', result)"
   ]
  },
  {
   "cell_type": "code",
   "execution_count": 24,
   "id": "611429bd",
   "metadata": {},
   "outputs": [],
   "source": [
    "### (ii) Less Than (`<` or `np.less()`)"
   ]
  },
  {
   "cell_type": "markdown",
   "id": "06faf944",
   "metadata": {},
   "source": [
    "result = np.less(a, b)  # or a < b\n",
    "print('Less Than:', result)"
   ]
  },
  {
   "cell_type": "code",
   "execution_count": 25,
   "id": "2f176c60",
   "metadata": {},
   "outputs": [],
   "source": [
    "### (iii) Greater Than or Equal (`>=` or `np.greater_equal()`)"
   ]
  },
  {
   "cell_type": "markdown",
   "id": "deffd9d0",
   "metadata": {},
   "source": [
    "result = np.greater_equal(a, b)  # or a >= b\n",
    "print('Greater Than or Equal:', result)"
   ]
  },
  {
   "cell_type": "code",
   "execution_count": 26,
   "id": "34831794",
   "metadata": {},
   "outputs": [],
   "source": [
    "### (iv) Less Than or Equal (`<=` or `np.less_equal()`)"
   ]
  },
  {
   "cell_type": "markdown",
   "id": "70af7bcc",
   "metadata": {},
   "source": [
    "result = np.less_equal(a, b)  # or a <= b\n",
    "print('Less Than or Equal:', result)"
   ]
  },
  {
   "cell_type": "code",
   "execution_count": 27,
   "id": "209a802b",
   "metadata": {},
   "outputs": [],
   "source": [
    "## 3. Bitwise Binary Operators\n",
    "# These work on binary representations of integers."
   ]
  },
  {
   "cell_type": "markdown",
   "id": "b14413f3",
   "metadata": {},
   "source": [
    "### (i) Bitwise AND (`&` or `np.bitwise_and()`)"
   ]
  },
  {
   "cell_type": "code",
   "execution_count": 28,
   "id": "d10b46dc",
   "metadata": {},
   "outputs": [
    {
     "name": "stdout",
     "output_type": "stream",
     "text": [
      "Bitwise AND: [2 3 4]\n"
     ]
    }
   ],
   "source": [
    "a = np.array([2, 3, 5])\n",
    "b = np.array([3, 7, 6])\n",
    "\n",
    "result = np.bitwise_and(a, b)  # or a & b\n",
    "print('Bitwise AND:', result)"
   ]
  },
  {
   "cell_type": "markdown",
   "id": "30d75333",
   "metadata": {},
   "source": [
    "### (ii) Bitwise OR (`|` or `np.bitwise_or()`)"
   ]
  },
  {
   "cell_type": "code",
   "execution_count": 29,
   "id": "e4af0094",
   "metadata": {},
   "outputs": [
    {
     "name": "stdout",
     "output_type": "stream",
     "text": [
      "Bitwise OR: [3 7 7]\n"
     ]
    }
   ],
   "source": [
    "result = np.bitwise_or(a, b)  # or a | b\n",
    "print('Bitwise OR:', result)"
   ]
  },
  {
   "cell_type": "markdown",
   "id": "4e7a480c",
   "metadata": {},
   "source": [
    "### (iii) Bitwise XOR (`^` or `np.bitwise_xor()`)"
   ]
  },
  {
   "cell_type": "code",
   "execution_count": 30,
   "id": "84f88088",
   "metadata": {},
   "outputs": [
    {
     "name": "stdout",
     "output_type": "stream",
     "text": [
      "Bitwise XOR: [1 4 3]\n"
     ]
    }
   ],
   "source": [
    "result = np.bitwise_xor(a, b)  # or a ^ b\n",
    "print('Bitwise XOR:', result)"
   ]
  },
  {
   "cell_type": "markdown",
   "id": "094d38be",
   "metadata": {},
   "source": [
    "## 4. Logical Binary Operators\n",
    "These work on boolean values."
   ]
  },
  {
   "cell_type": "code",
   "execution_count": 31,
   "id": "ed1e80eb",
   "metadata": {},
   "outputs": [],
   "source": [
    "### (i) Logical AND (`np.logical_and()`)"
   ]
  },
  {
   "cell_type": "markdown",
   "id": "33319f43",
   "metadata": {},
   "source": [
    "a = np.array([True, False, True])\n",
    "b = np.array([False, False, True])\n",
    "\n",
    "result = np.logical_and(a, b)\n",
    "print('Logical AND:', result)"
   ]
  },
  {
   "cell_type": "code",
   "execution_count": 32,
   "id": "fefd8cb1",
   "metadata": {},
   "outputs": [],
   "source": [
    "### (ii) Logical OR (`np.logical_or()`)"
   ]
  },
  {
   "cell_type": "markdown",
   "id": "88b7565e",
   "metadata": {},
   "source": [
    "result = np.logical_or(a, b)\n",
    "print('Logical OR:', result)"
   ]
  },
  {
   "cell_type": "code",
   "execution_count": 33,
   "id": "9f86450d",
   "metadata": {},
   "outputs": [],
   "source": [
    "### (iii) Logical XOR (`np.logical_xor()`)"
   ]
  },
  {
   "cell_type": "markdown",
   "id": "d0178d68",
   "metadata": {},
   "source": [
    "result = np.logical_xor(a, b)\n",
    "print('Logical XOR:', result)"
   ]
  },
  {
   "cell_type": "code",
   "execution_count": 34,
   "id": "d5be4165",
   "metadata": {},
   "outputs": [],
   "source": [
    "### (iv) Logical NOT (`np.logical_not()`)"
   ]
  },
  {
   "cell_type": "markdown",
   "id": "9d0dc652",
   "metadata": {},
   "source": [
    "result = np.logical_not(a)\n",
    "print('Logical NOT:', result)"
   ]
  },
  {
   "cell_type": "code",
   "execution_count": null,
   "id": "4720a750",
   "metadata": {},
   "outputs": [
    {
     "ename": "SyntaxError",
     "evalue": "invalid syntax (195399573.py, line 2)",
     "output_type": "error",
     "traceback": [
      "\u001b[1;36m  Cell \u001b[1;32mIn[35], line 2\u001b[1;36m\u001b[0m\n\u001b[1;33m    These perform specific element-wise operations.\u001b[0m\n\u001b[1;37m          ^\u001b[0m\n\u001b[1;31mSyntaxError\u001b[0m\u001b[1;31m:\u001b[0m invalid syntax\n"
     ]
    }
   ],
   "source": [
    "## 5. Special Binary Operators\n",
    "# These perform specific element-wise operations."
   ]
  },
  {
   "cell_type": "markdown",
   "id": "c2f2a7ca",
   "metadata": {},
   "source": [
    "### (i) Maximum (`np.maximum()`)"
   ]
  },
  {
   "cell_type": "code",
   "execution_count": null,
   "id": "4609f9f7",
   "metadata": {},
   "outputs": [],
   "source": [
    "a = np.array([1, 2, 3])\n",
    "b = np.array([3, 1, 2])\n",
    "\n",
    "result = np.maximum(a, b)\n",
    "print('Maximum:', result)"
   ]
  },
  {
   "cell_type": "markdown",
   "id": "5493a4bf",
   "metadata": {},
   "source": [
    "### (ii) Minimum (`np.minimum()`)"
   ]
  },
  {
   "cell_type": "code",
   "execution_count": null,
   "id": "faf9ed83",
   "metadata": {},
   "outputs": [],
   "source": [
    "result = np.minimum(a, b)\n",
    "print('Minimum:', result)"
   ]
  },
  {
   "cell_type": "markdown",
   "id": "2975a427",
   "metadata": {},
   "source": [
    "### (iii) Copy Sign (`np.copysign()`)"
   ]
  },
  {
   "cell_type": "code",
   "execution_count": null,
   "id": "e5275090",
   "metadata": {},
   "outputs": [],
   "source": [
    "a = np.array([1.0, -2.5, 3.3])\n",
    "b = np.array([-1.0, 2.5, -3.3])\n",
    "\n",
    "result = np.copysign(a, b)\n",
    "print('Copy Sign:', result)"
   ]
  },
  {
   "cell_type": "markdown",
   "id": "6ac8b3c2",
   "metadata": {},
   "source": [
    "## Conclusion\n",
    "This notebook covered NumPy's binary operators with examples.\n",
    "You can modify and experiment with these operations for better understanding."
   ]
  }
 ],
 "metadata": {
  "kernelspec": {
   "display_name": "Python 3",
   "language": "python",
   "name": "python3"
  },
  "language_info": {
   "codemirror_mode": {
    "name": "ipython",
    "version": 3
   },
   "file_extension": ".py",
   "mimetype": "text/x-python",
   "name": "python",
   "nbconvert_exporter": "python",
   "pygments_lexer": "ipython3",
   "version": "3.8.10"
  }
 },
 "nbformat": 4,
 "nbformat_minor": 5
}
