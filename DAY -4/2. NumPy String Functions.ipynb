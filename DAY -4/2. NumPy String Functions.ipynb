{
 "cells": [
  {
   "cell_type": "markdown",
   "id": "2bc2c028",
   "metadata": {},
   "source": [
    "# NumPy String Functions\n",
    "This notebook explores various NumPy string functions in detail."
   ]
  },
  {
   "cell_type": "markdown",
   "id": "c57fcc19",
   "metadata": {},
   "source": [
    "## 1. Changing Case"
   ]
  },
  {
   "cell_type": "markdown",
   "id": "c62b8dcc",
   "metadata": {},
   "source": [
    "### `char.upper()` - Converts to uppercase"
   ]
  },
  {
   "cell_type": "code",
   "execution_count": null,
   "id": "53038830",
   "metadata": {},
   "outputs": [],
   "source": [
    "import numpy as np\n",
    "arr = np.array(['hello', 'world'])\n",
    "np.char.upper(arr)"
   ]
  },
  {
   "cell_type": "markdown",
   "id": "819efda1",
   "metadata": {},
   "source": [
    "### `char.lower()` - Converts to lowercase"
   ]
  },
  {
   "cell_type": "code",
   "execution_count": null,
   "id": "ebf07804",
   "metadata": {},
   "outputs": [],
   "source": [
    "np.char.lower(['PYTHON', 'NUMPY'])"
   ]
  },
  {
   "cell_type": "markdown",
   "id": "0704dc7e",
   "metadata": {},
   "source": [
    "### `char.title()` - Converts to title case"
   ]
  },
  {
   "cell_type": "code",
   "execution_count": null,
   "id": "5b459d88",
   "metadata": {},
   "outputs": [],
   "source": [
    "np.char.title(['hello world', 'python numpy'])"
   ]
  },
  {
   "cell_type": "markdown",
   "id": "d512f81d",
   "metadata": {},
   "source": [
    "## 2. String Concatenation"
   ]
  },
  {
   "cell_type": "markdown",
   "id": "f3cfe889",
   "metadata": {},
   "source": [
    "### `char.add()` - Concatenates two arrays element-wise"
   ]
  },
  {
   "cell_type": "code",
   "execution_count": null,
   "id": "04161ada",
   "metadata": {},
   "outputs": [],
   "source": [
    "arr1 = np.array(['Hello', 'NumPy'])\n",
    "arr2 = np.array([' World', ' Library'])\n",
    "np.char.add(arr1, arr2)"
   ]
  },
  {
   "cell_type": "markdown",
   "id": "7d2d8b6e",
   "metadata": {},
   "source": [
    "### `char.multiply()` - Repeats a string multiple times"
   ]
  },
  {
   "cell_type": "code",
   "execution_count": null,
   "id": "409490dc",
   "metadata": {},
   "outputs": [],
   "source": [
    "np.char.multiply('NumPy ', 3)"
   ]
  },
  {
   "cell_type": "markdown",
   "id": "aab935a4",
   "metadata": {},
   "source": [
    "## 3. String Splitting and Joining"
   ]
  },
  {
   "cell_type": "markdown",
   "id": "d185e5ae",
   "metadata": {},
   "source": [
    "### `char.split()` - Splits each string at spaces"
   ]
  },
  {
   "cell_type": "code",
   "execution_count": null,
   "id": "8a66a2a7",
   "metadata": {},
   "outputs": [],
   "source": [
    "np.char.split(['Hello World', 'Python,NumPy'], sep=' ')"
   ]
  },
  {
   "cell_type": "markdown",
   "id": "13e5f132",
   "metadata": {},
   "source": [
    "### `char.splitlines()` - Splits at newline characters"
   ]
  },
  {
   "cell_type": "code",
   "execution_count": null,
   "id": "4ab9213f",
   "metadata": {},
   "outputs": [],
   "source": [
    "np.char.splitlines(['Hello\\nWorld', 'NumPy\\nPython'])"
   ]
  },
  {
   "cell_type": "markdown",
   "id": "fefab0e9",
   "metadata": {},
   "source": [
    "### `char.join()` - Joins elements using a separator"
   ]
  },
  {
   "cell_type": "code",
   "execution_count": null,
   "id": "e8048a2c",
   "metadata": {},
   "outputs": [],
   "source": [
    "arr = np.array(['abc', 'xyz'])\n",
    "np.char.join('-', arr)"
   ]
  },
  {
   "cell_type": "markdown",
   "id": "f8e181f3",
   "metadata": {},
   "source": [
    "## 4. String Padding and Trimming"
   ]
  },
  {
   "cell_type": "markdown",
   "id": "7bb0e02b",
   "metadata": {},
   "source": [
    "### `char.center()` - Centers the string within a width"
   ]
  },
  {
   "cell_type": "code",
   "execution_count": null,
   "id": "291a421a",
   "metadata": {},
   "outputs": [],
   "source": [
    "np.char.center('NumPy', 10, fillchar='-')"
   ]
  },
  {
   "cell_type": "markdown",
   "id": "b5c0aa2d",
   "metadata": {},
   "source": [
    "### `char.strip()` - Removes leading and trailing spaces"
   ]
  },
  {
   "cell_type": "code",
   "execution_count": null,
   "id": "97fe5e98",
   "metadata": {},
   "outputs": [],
   "source": [
    "np.char.strip(['  hello  ', ' numpy  '])"
   ]
  },
  {
   "cell_type": "markdown",
   "id": "17997e1d",
   "metadata": {},
   "source": [
    "## 5. Searching and Replacing"
   ]
  },
  {
   "cell_type": "markdown",
   "id": "12519fef",
   "metadata": {},
   "source": [
    "### `char.find()` - Finds the index of a substring"
   ]
  },
  {
   "cell_type": "code",
   "execution_count": null,
   "id": "f28ec8a0",
   "metadata": {},
   "outputs": [],
   "source": [
    "np.char.find(['Hello World', 'Python NumPy'], 'o')"
   ]
  },
  {
   "cell_type": "markdown",
   "id": "f9797482",
   "metadata": {},
   "source": [
    "### `char.replace()` - Replaces occurrences of a substring"
   ]
  },
  {
   "cell_type": "code",
   "execution_count": null,
   "id": "bc515039",
   "metadata": {},
   "outputs": [],
   "source": [
    "np.char.replace(['Hello World', 'Python NumPy'], 'o', '0')"
   ]
  },
  {
   "cell_type": "markdown",
   "id": "e0d460d0",
   "metadata": {},
   "source": [
    "## 6. String Comparison"
   ]
  },
  {
   "cell_type": "markdown",
   "id": "37225f1a",
   "metadata": {},
   "source": [
    "### `char.equal()` - Checks if two arrays are equal element-wise"
   ]
  },
  {
   "cell_type": "code",
   "execution_count": null,
   "id": "2ce2762a",
   "metadata": {},
   "outputs": [],
   "source": [
    "np.char.equal(['apple', 'banana'], ['apple', 'orange'])"
   ]
  },
  {
   "cell_type": "markdown",
   "id": "5e14508a",
   "metadata": {},
   "source": [
    "### `char.greater()` & `char.less()` - Lexicographical comparison"
   ]
  },
  {
   "cell_type": "code",
   "execution_count": null,
   "id": "a00f74b2",
   "metadata": {},
   "outputs": [],
   "source": [
    "np.char.greater(['apple', 'banana'], ['apple', 'orange'])"
   ]
  },
  {
   "cell_type": "markdown",
   "id": "9a20ca81",
   "metadata": {},
   "source": [
    "## 7. Checking String Properties"
   ]
  },
  {
   "cell_type": "markdown",
   "id": "5171993e",
   "metadata": {},
   "source": [
    "### `char.isnumeric()` - Checks if all characters are numeric"
   ]
  },
  {
   "cell_type": "code",
   "execution_count": null,
   "id": "5fc75972",
   "metadata": {},
   "outputs": [],
   "source": [
    "np.char.isnumeric(['123', 'abc', '456'])"
   ]
  },
  {
   "cell_type": "markdown",
   "id": "7cfddb7c",
   "metadata": {},
   "source": [
    "### `char.isalpha()` - Checks if all characters are alphabetic"
   ]
  },
  {
   "cell_type": "code",
   "execution_count": null,
   "id": "d2335c37",
   "metadata": {},
   "outputs": [],
   "source": [
    "np.char.isalpha(['Hello', '123', 'World'])"
   ]
  },
  {
   "cell_type": "markdown",
   "id": "63e66d3b",
   "metadata": {},
   "source": [
    "## 8. Encoding and Decoding"
   ]
  },
  {
   "cell_type": "markdown",
   "id": "cfb51394",
   "metadata": {},
   "source": [
    "### `char.encode()` & `char.decode()` - Encodes and decodes strings"
   ]
  },
  {
   "cell_type": "code",
   "execution_count": null,
   "id": "bb792de9",
   "metadata": {},
   "outputs": [],
   "source": [
    "encoded = np.char.encode(['hello', 'numpy'], encoding='utf-8')\n",
    "encoded"
   ]
  },
  {
   "cell_type": "code",
   "execution_count": null,
   "id": "7e1806ca",
   "metadata": {},
   "outputs": [],
   "source": [
    "decoded = np.char.decode(encoded, encoding='utf-8')\n",
    "decoded"
   ]
  },
  {
   "cell_type": "markdown",
   "id": "f64e5a20",
   "metadata": {},
   "source": [
    "## Conclusion\n",
    "NumPy’s `char` module provides a powerful way to manipulate string arrays efficiently."
   ]
  }
 ],
 "metadata": {},
 "nbformat": 4,
 "nbformat_minor": 5
}
