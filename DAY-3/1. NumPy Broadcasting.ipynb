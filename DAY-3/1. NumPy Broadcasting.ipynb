{
 "cells": [
  {
   "cell_type": "markdown",
   "metadata": {},
   "source": [
    "### 1. Rules for Broadcasting"
   ]
  },
  {
   "cell_type": "markdown",
   "metadata": {},
   "source": [
    "When performing operations on arrays of different shapes, NumPy follows these rules:\n",
    "\n"
   ]
  },
  {
   "cell_type": "markdown",
   "metadata": {},
   "source": [
    "1. Match dimensions from right to left\n",
    "\n",
    "* If dimensions are equal → No change needed\n",
    "\n",
    "* If one dimension is 1 → It gets expanded to match the other dimension\n",
    "\n",
    "* If dimensions are different and neither is 1 → Broadcasting fails (throws an error)"
   ]
  },
  {
   "cell_type": "markdown",
   "metadata": {},
   "source": [
    "2.Expand singleton dimensions (1)\n",
    "\n",
    "* A shape (1, n) can behave like (m, n) if needed."
   ]
  },
  {
   "cell_type": "markdown",
   "metadata": {},
   "source": [
    "### 2. Examples of Broadcasting"
   ]
  },
  {
   "cell_type": "markdown",
   "metadata": {},
   "source": [
    "#### Example 1: Adding a Scalar to an Array"
   ]
  },
  {
   "cell_type": "markdown",
   "metadata": {},
   "source": [
    "A scalar (single value) is broadcasted across the entire array."
   ]
  },
  {
   "cell_type": "code",
   "execution_count": 11,
   "metadata": {},
   "outputs": [
    {
     "name": "stdout",
     "output_type": "stream",
     "text": [
      "[11 12 13]\n"
     ]
    }
   ],
   "source": [
    "import numpy as np\n",
    "\n",
    "arr = np.array([1, 2, 3])\n",
    "scalar = 10\n",
    "\n",
    "result = arr + scalar  # Broadcasting\n",
    "print(result)  # Output: [11 12 13]\n"
   ]
  },
  {
   "cell_type": "markdown",
   "metadata": {},
   "source": [
    "##### How it works?\n",
    "\n",
    "* The scalar 10 is expanded to [10, 10, 10] to match the array shape."
   ]
  },
  {
   "cell_type": "markdown",
   "metadata": {},
   "source": [
    "### Example 2: Broadcasting a 1D Array to a 2D Array"
   ]
  },
  {
   "cell_type": "code",
   "execution_count": 12,
   "metadata": {},
   "outputs": [
    {
     "name": "stdout",
     "output_type": "stream",
     "text": [
      "[[11 21 31]\n",
      " [12 22 32]\n",
      " [13 23 33]]\n"
     ]
    }
   ],
   "source": [
    "A = np.array([[1], [2], [3]])  # Shape (3,1)\n",
    "B = np.array([10, 20, 30])     # Shape (1,3)\n",
    "\n",
    "result = A + B  # Broadcasting\n",
    "print(result)\n"
   ]
  },
  {
   "cell_type": "markdown",
   "metadata": {},
   "source": [
    "#### How it works?"
   ]
  },
  {
   "cell_type": "markdown",
   "metadata": {},
   "source": [
    "* A has shape (3,1), which expands to (3,3).\n",
    "\n",
    "* B has shape (1,3), which expands to (3,3).\n",
    "\n",
    "* Addition is performed element-wise."
   ]
  },
  {
   "cell_type": "markdown",
   "metadata": {},
   "source": [
    "### Example 3: Broadcasting in 3D"
   ]
  },
  {
   "cell_type": "code",
   "execution_count": 20,
   "metadata": {},
   "outputs": [
    {
     "name": "stdout",
     "output_type": "stream",
     "text": [
      "(3, 1, 4)\n"
     ]
    }
   ],
   "source": [
    "X = np.ones((3, 1, 4))  # Shape (3,1,4)\n",
    "Y = np.array([1, 2, 3, 4])  # Shape (4,) → (1,1,4)\n",
    "result = X + Y\n",
    "print(result.shape)  # Output: (3,1,4)\n"
   ]
  },
  {
   "cell_type": "markdown",
   "metadata": {},
   "source": [
    "* Y is reshaped to (1,1,4), then broadcasted across (3,1,4)."
   ]
  },
  {
   "cell_type": "markdown",
   "metadata": {},
   "source": [
    "### 3. When Broadcasting Fails\n"
   ]
  },
  {
   "cell_type": "markdown",
   "metadata": {},
   "source": [
    "If two arrays have incompatible shapes that cannot be expanded, NumPy raises an error.\n"
   ]
  },
  {
   "cell_type": "code",
   "execution_count": 29,
   "metadata": {},
   "outputs": [
    {
     "ename": "ValueError",
     "evalue": "operands could not be broadcast together with shapes (2,2) (2,3) ",
     "output_type": "error",
     "traceback": [
      "\u001b[1;31m---------------------------------------------------------------------------\u001b[0m",
      "\u001b[1;31mValueError\u001b[0m                                Traceback (most recent call last)",
      "Cell \u001b[1;32mIn[29], line 5\u001b[0m\n\u001b[0;32m      2\u001b[0m A \u001b[38;5;241m=\u001b[39m np\u001b[38;5;241m.\u001b[39marray([[\u001b[38;5;241m1\u001b[39m, \u001b[38;5;241m2\u001b[39m, \u001b[38;5;241m3\u001b[39m],[\u001b[38;5;241m1\u001b[39m, \u001b[38;5;241m2\u001b[39m, \u001b[38;5;241m3\u001b[39m]])  \n\u001b[0;32m      4\u001b[0m \u001b[38;5;66;03m# This will raise an error\u001b[39;00m\n\u001b[1;32m----> 5\u001b[0m \u001b[43mB\u001b[49m\u001b[38;5;241;43m+\u001b[39;49m\u001b[43mA\u001b[49m\n",
      "\u001b[1;31mValueError\u001b[0m: operands could not be broadcast together with shapes (2,2) (2,3) "
     ]
    }
   ],
   "source": [
    "B = np.array([[1, 2], [3, 4]]) \n",
    "A = np.array([[1, 2, 3],[1, 2, 3]])  \n",
    "\n",
    "# This will raise an error\n",
    "B+A\n"
   ]
  },
  {
   "cell_type": "markdown",
   "metadata": {},
   "source": [
    "❌ Error: operands could not be broadcast together with shapes (3,) (2,2)\n",
    "\n",
    "Why?\n",
    "\n",
    "* (3,) and (2,2) cannot be aligned for broadcasting."
   ]
  },
  {
   "cell_type": "markdown",
   "metadata": {},
   "source": [
    "### 4. Broadcasting Best Practices"
   ]
  },
  {
   "cell_type": "markdown",
   "metadata": {},
   "source": [
    "✅ Use np.newaxis or reshape() to adjust array dimensions manually if needed."
   ]
  },
  {
   "cell_type": "code",
   "execution_count": 15,
   "metadata": {},
   "outputs": [
    {
     "name": "stdout",
     "output_type": "stream",
     "text": [
      "(3, 2)\n"
     ]
    }
   ],
   "source": [
    "A = np.array([1, 2, 3])[:, np.newaxis]  # Shape (3,1)\n",
    "B = np.array([10, 20])  # Shape (2,)\n",
    "\n",
    "result = A + B  # Now possible\n",
    "print(result.shape)  # Output: (3,2)\n"
   ]
  }
 ],
 "metadata": {
  "kernelspec": {
   "display_name": "Python 3",
   "language": "python",
   "name": "python3"
  },
  "language_info": {
   "codemirror_mode": {
    "name": "ipython",
    "version": 3
   },
   "file_extension": ".py",
   "mimetype": "text/x-python",
   "name": "python",
   "nbconvert_exporter": "python",
   "pygments_lexer": "ipython3",
   "version": "3.8.10"
  }
 },
 "nbformat": 4,
 "nbformat_minor": 2
}
