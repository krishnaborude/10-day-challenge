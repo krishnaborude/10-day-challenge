{
 "cells": [
  {
   "cell_type": "markdown",
   "id": "37a66d76",
   "metadata": {},
   "source": [
    "# NumPy Array Manipulation"
   ]
  },
  {
   "cell_type": "markdown",
   "id": "50c2d3d0",
   "metadata": {},
   "source": [
    "This notebook covers various NumPy array manipulation techniques."
   ]
  },
  {
   "cell_type": "code",
   "execution_count": 1,
   "id": "f6ddd615",
   "metadata": {},
   "outputs": [],
   "source": [
    "import numpy as np"
   ]
  },
  {
   "cell_type": "markdown",
   "id": "44a4501d",
   "metadata": {},
   "source": [
    "## Creating and Reshaping Arrays"
   ]
  },
  {
   "cell_type": "markdown",
   "id": "02268f69",
   "metadata": {},
   "source": [
    "Reshaping changes the structure of the array without modifying data."
   ]
  },
  {
   "cell_type": "code",
   "execution_count": 2,
   "id": "1e2fb652",
   "metadata": {},
   "outputs": [
    {
     "name": "stdout",
     "output_type": "stream",
     "text": [
      "Reshaped Array:\n",
      " [[ 0  1  2  3]\n",
      " [ 4  5  6  7]\n",
      " [ 8  9 10 11]]\n"
     ]
    }
   ],
   "source": [
    "arr = np.arange(12)\n",
    "reshaped = arr.reshape(3, 4)\n",
    "print(\"Reshaped Array:\\n\", reshaped)"
   ]
  },
  {
   "cell_type": "markdown",
   "id": "b5d0b3b7",
   "metadata": {},
   "source": [
    "## Flattening Arrays"
   ]
  },
  {
   "cell_type": "markdown",
   "id": "bc5c1598",
   "metadata": {},
   "source": [
    "Flattening converts a multi-dimensional array into a one-dimensional array."
   ]
  },
  {
   "cell_type": "code",
   "execution_count": 3,
   "id": "7a7b2733",
   "metadata": {},
   "outputs": [
    {
     "name": "stdout",
     "output_type": "stream",
     "text": [
      "Flattened Array: [ 0  1  2  3  4  5  6  7  8  9 10 11]\n"
     ]
    }
   ],
   "source": [
    "flattened = reshaped.flatten()\n",
    "print(\"Flattened Array:\", flattened)"
   ]
  },
  {
   "cell_type": "markdown",
   "id": "9076fc44",
   "metadata": {},
   "source": [
    "## Transposing Arrays"
   ]
  },
  {
   "cell_type": "markdown",
   "id": "ea49dad1",
   "metadata": {},
   "source": [
    "Transposing swaps rows and columns."
   ]
  },
  {
   "cell_type": "code",
   "execution_count": 4,
   "id": "3a055fb5",
   "metadata": {},
   "outputs": [
    {
     "name": "stdout",
     "output_type": "stream",
     "text": [
      "Transposed Array:\n",
      " [[ 0  4  8]\n",
      " [ 1  5  9]\n",
      " [ 2  6 10]\n",
      " [ 3  7 11]]\n"
     ]
    }
   ],
   "source": [
    "transposed = reshaped.T\n",
    "print(\"Transposed Array:\\n\", transposed)"
   ]
  },
  {
   "cell_type": "markdown",
   "id": "5573a730",
   "metadata": {},
   "source": [
    "## Stacking Arrays"
   ]
  },
  {
   "cell_type": "markdown",
   "id": "f61bcdb6",
   "metadata": {},
   "source": [
    "Stacking allows combining multiple arrays horizontally or vertically."
   ]
  },
  {
   "cell_type": "code",
   "execution_count": 5,
   "id": "568885bd",
   "metadata": {},
   "outputs": [
    {
     "name": "stdout",
     "output_type": "stream",
     "text": [
      "Horizontally Stacked:\n",
      " [[1 2 5 6]\n",
      " [3 4 7 8]]\n",
      "Vertically Stacked:\n",
      " [[1 2]\n",
      " [3 4]\n",
      " [5 6]\n",
      " [7 8]]\n"
     ]
    }
   ],
   "source": [
    "a = np.array([[1, 2], [3, 4]])\n",
    "b = np.array([[5, 6], [7, 8]])\n",
    "\n",
    "h_stacked = np.hstack((a, b))\n",
    "print(\"Horizontally Stacked:\\n\", h_stacked)\n",
    "\n",
    "v_stacked = np.vstack((a, b))\n",
    "print(\"Vertically Stacked:\\n\", v_stacked)"
   ]
  },
  {
   "cell_type": "markdown",
   "id": "53389197",
   "metadata": {},
   "source": [
    "## Splitting Arrays"
   ]
  },
  {
   "cell_type": "markdown",
   "id": "4bdabd63",
   "metadata": {},
   "source": [
    "Splitting divides an array into multiple sub-arrays."
   ]
  },
  {
   "cell_type": "code",
   "execution_count": 6,
   "id": "2cade187",
   "metadata": {},
   "outputs": [
    {
     "name": "stdout",
     "output_type": "stream",
     "text": [
      "Horizontal Split: [array([[1, 2],\n",
      "       [3, 4]]), array([[5, 6],\n",
      "       [7, 8]])]\n",
      "Vertical Split: [array([[1, 2],\n",
      "       [3, 4]]), array([[5, 6],\n",
      "       [7, 8]])]\n"
     ]
    }
   ],
   "source": [
    "split_h = np.hsplit(h_stacked, 2)\n",
    "print(\"Horizontal Split:\", split_h)\n",
    "\n",
    "split_v = np.vsplit(v_stacked, 2)\n",
    "print(\"Vertical Split:\", split_v)"
   ]
  },
  {
   "cell_type": "markdown",
   "id": "81c38240",
   "metadata": {},
   "source": [
    "## Adding & Removing Elements"
   ]
  },
  {
   "cell_type": "markdown",
   "id": "a9d9e612",
   "metadata": {},
   "source": [
    "Elements can be inserted or removed dynamically."
   ]
  },
  {
   "cell_type": "code",
   "execution_count": 7,
   "id": "e940aba1",
   "metadata": {},
   "outputs": [
    {
     "name": "stdout",
     "output_type": "stream",
     "text": [
      "Array after insertion: [ 1  2 99  3  4]\n",
      "Array after deletion: [1 3 4]\n"
     ]
    }
   ],
   "source": [
    "arr = np.array([1, 2, 3, 4])\n",
    "new_arr = np.insert(arr, 2, 99)\n",
    "print(\"Array after insertion:\", new_arr)\n",
    "\n",
    "removed_arr = np.delete(arr, 1)\n",
    "print(\"Array after deletion:\", removed_arr)"
   ]
  }
 ],
 "metadata": {
  "kernelspec": {
   "display_name": "Python 3",
   "language": "python",
   "name": "python3"
  },
  "language_info": {
   "codemirror_mode": {
    "name": "ipython",
    "version": 3
   },
   "file_extension": ".py",
   "mimetype": "text/x-python",
   "name": "python",
   "nbconvert_exporter": "python",
   "pygments_lexer": "ipython3",
   "version": "3.8.10"
  }
 },
 "nbformat": 4,
 "nbformat_minor": 5
}
