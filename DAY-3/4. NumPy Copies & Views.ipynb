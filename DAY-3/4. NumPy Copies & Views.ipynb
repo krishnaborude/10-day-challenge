{
 "cells": [
  {
   "cell_type": "markdown",
   "id": "9baa1c3c",
   "metadata": {},
   "source": [
    "# NumPy Copies & Views\n",
    "\n",
    "In NumPy, it's important to understand the difference between **copies** and **views** when working with arrays. This notebook will cover:\n",
    "\n",
    "- What is a Copy in NumPy?\n",
    "- What is a View in NumPy?\n",
    "- How to check if an array is a copy or a view?\n",
    "- Slicing and its effect on views.\n",
    "\n",
    "Let's get started!"
   ]
  },
  {
   "cell_type": "markdown",
   "id": "8ef70699",
   "metadata": {},
   "source": [
    "## 1. Copy in NumPy\n",
    "A **copy** is a completely new array that has its own data. Changes made to the copied array **do not** affect the original array."
   ]
  },
  {
   "cell_type": "code",
   "execution_count": 1,
   "id": "d0ecba22",
   "metadata": {},
   "outputs": [
    {
     "name": "stdout",
     "output_type": "stream",
     "text": [
      "Original Array: [1 2 3 4]\n",
      "Copied Array: [100   2   3   4]\n"
     ]
    }
   ],
   "source": [
    "import numpy as np\n",
    "\n",
    "# Creating an array\n",
    "arr1 = np.array([1, 2, 3, 4])\n",
    "arr2 = arr1.copy()  # Creates a new independent array\n",
    "\n",
    "# Modifying the copy\n",
    "arr2[0] = 100\n",
    "\n",
    "# Printing results\n",
    "print(\"Original Array:\", arr1)  # [1 2 3 4]\n",
    "print(\"Copied Array:\", arr2)    # [100 2 3 4]"
   ]
  },
  {
   "cell_type": "markdown",
   "id": "d2c469ea",
   "metadata": {},
   "source": [
    "## 2. View in NumPy\n",
    "A **view** is a new array that **shares** data with the original array. Changes in the view **will** reflect in the original array."
   ]
  },
  {
   "cell_type": "code",
   "execution_count": 2,
   "id": "1b70f288",
   "metadata": {},
   "outputs": [
    {
     "name": "stdout",
     "output_type": "stream",
     "text": [
      "Original Array: [100   2   3   4]\n",
      "View Array: [100   2   3   4]\n"
     ]
    }
   ],
   "source": [
    "# Creating an array\n",
    "arr1 = np.array([1, 2, 3, 4])\n",
    "arr2 = arr1.view()  # Creates a view (shallow copy)\n",
    "\n",
    "# Modifying the view\n",
    "arr2[0] = 100\n",
    "\n",
    "# Printing results\n",
    "print(\"Original Array:\", arr1)  # [100 2 3 4]\n",
    "print(\"View Array:\", arr2)      # [100 2 3 4]"
   ]
  },
  {
   "cell_type": "markdown",
   "id": "d0e4262b",
   "metadata": {},
   "source": [
    "## 3. Checking if an Array is a Copy or View\n",
    "You can check whether an array is a **copy** or a **view** using the `.base` attribute.\n",
    "\n",
    "- If `.base` is `None`, it means the array is a **copy**.\n",
    "- If `.base` is **not** `None`, it means the array is a **view** and references the original array."
   ]
  },
  {
   "cell_type": "code",
   "execution_count": 3,
   "id": "409bae63",
   "metadata": {},
   "outputs": [
    {
     "name": "stdout",
     "output_type": "stream",
     "text": [
      "arr2.base: None\n",
      "arr3.base: [10 20 30]\n"
     ]
    }
   ],
   "source": [
    "# Creating an array\n",
    "arr1 = np.array([10, 20, 30])\n",
    "arr2 = arr1.copy()\n",
    "arr3 = arr1.view()\n",
    "\n",
    "# Checking the base attribute\n",
    "print(\"arr2.base:\", arr2.base)  # Output: None (arr2 is a copy)\n",
    "print(\"arr3.base:\", arr3.base)  # Output: [10 20 30] (arr3 is a view)"
   ]
  },
  {
   "cell_type": "markdown",
   "id": "7f36a2bf",
   "metadata": {},
   "source": [
    "## 4. Slicing and Views\n",
    "In NumPy, slicing an array **usually** creates a view, not a copy. This means modifications to the slice will affect the original array."
   ]
  },
  {
   "cell_type": "code",
   "execution_count": 4,
   "id": "b9fe0d96",
   "metadata": {},
   "outputs": [
    {
     "name": "stdout",
     "output_type": "stream",
     "text": [
      "Original Array: [ 5 99 15 20]\n",
      "Sliced View: [99 15]\n"
     ]
    }
   ],
   "source": [
    "# Creating an array\n",
    "arr1 = np.array([5, 10, 15, 20])\n",
    "arr2 = arr1[1:3]  # Slicing creates a view\n",
    "\n",
    "# Modifying the slice\n",
    "arr2[0] = 99\n",
    "\n",
    "# Printing results\n",
    "print(\"Original Array:\", arr1)  # [5 99 15 20]\n",
    "print(\"Sliced View:\", arr2)     # [99 15]"
   ]
  },
  {
   "cell_type": "markdown",
   "id": "7edb74eb",
   "metadata": {},
   "source": [
    "## 5. Summary Table\n",
    "Here's a quick summary of when to use copies vs. views:\n",
    "\n",
    "| **Scenario**             | **Use Copy** | **Use View** |\n",
    "|-------------------------|-------------|-------------|\n",
    "| Need independent data   | ✅ Yes       | ❌ No       |\n",
    "| Performance is critical | ❌ No        | ✅ Yes      |\n",
    "| Avoid modifying original | ✅ Yes      | ❌ No       |\n",
    "| Work with large data    | ❌ No        | ✅ Yes      |\n",
    "\n",
    "- Use **copies** when you need an independent array.\n",
    "- Use **views** when you want to optimize memory usage and allow modifications.\n",
    "\n",
    "That's it for NumPy Copies & Views! 🎉"
   ]
  }
 ],
 "metadata": {
  "kernelspec": {
   "display_name": "Python 3",
   "language": "python",
   "name": "python3"
  },
  "language_info": {
   "codemirror_mode": {
    "name": "ipython",
    "version": 3
   },
   "file_extension": ".py",
   "mimetype": "text/x-python",
   "name": "python",
   "nbconvert_exporter": "python",
   "pygments_lexer": "ipython3",
   "version": "3.8.10"
  }
 },
 "nbformat": 4,
 "nbformat_minor": 5
}
